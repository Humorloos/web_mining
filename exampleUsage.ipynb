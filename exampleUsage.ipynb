{
 "cells": [
  {
   "cell_type": "code",
   "execution_count": 11,
   "id": "20367048-a40d-48eb-96d3-fc25f0681160",
   "metadata": {},
   "outputs": [],
   "source": [
    "import pandas as pd\n",
    "from Code.TwitterProcessor import TwitterProcessor"
   ]
  },
  {
   "cell_type": "code",
   "execution_count": 12,
   "id": "4ddeacac-f3e7-4b82-9839-ab5a901e5e23",
   "metadata": {},
   "outputs": [],
   "source": [
    "pro = TwitterProcessor()"
   ]
  },
  {
   "cell_type": "code",
   "execution_count": 13,
   "id": "9d559c1a-e74f-4ede-bb74-4ed67b3213f9",
   "metadata": {},
   "outputs": [],
   "source": [
    "exa = \"Hi all I like to Eat this 55 @ari movie a lot http://tinyurl.com/cvvg9a\"   "
   ]
  },
  {
   "cell_type": "code",
   "execution_count": 14,
   "id": "27f28bed-5a2b-4fbc-9882-0257a0486b36",
   "metadata": {},
   "outputs": [
    {
     "name": "stdout",
     "output_type": "stream",
     "text": [
      "Hi all I like to Eat this 55 USERNAME movie a lot http://tinyurl.com/cvvg9a\n",
      "Hi all I like to Eat this 55 @ari movie a lot URL\n",
      "hi all i like to eat this 55 @ari movie a lot http://tinyurl.com/cvvg9a\n"
     ]
    }
   ],
   "source": [
    "print(pro.token_user(exa))\n",
    "print(pro.token_url(exa))\n",
    "print(pro.make_lower(exa))\n"
   ]
  },
  {
   "cell_type": "code",
   "execution_count": 15,
   "id": "004966a2-9ac7-4427-bf4a-1b75c907c078",
   "metadata": {},
   "outputs": [],
   "source": [
    "data = pd.read_csv(\"Data/data.csv\")"
   ]
  },
  {
   "cell_type": "code",
   "execution_count": 20,
   "id": "cb5e1917-f47f-4c08-843c-1a343cea25e0",
   "metadata": {},
   "outputs": [
    {
     "name": "stdout",
     "output_type": "stream",
     "text": [
      "0    is upset that he can't update his Facebook by ...\n",
      "1    @Kenichan I dived many times for the ball. Man...\n",
      "2      my whole body feels itchy and like its on fire \n",
      "3    @nationwideclass no, it's not behaving at all....\n",
      "4                        @Kwesidei not the whole crew \n",
      "Name: @switchfoot http://twitpic.com/2y1zl - Awww, that's a bummer.  You shoulda got David Carr of Third Day to do it. ;D, dtype: object\n"
     ]
    }
   ],
   "source": [
    "example = data.iloc[:5, 5]\n",
    "print(example)"
   ]
  },
  {
   "cell_type": "code",
   "execution_count": 22,
   "id": "e72f5d29-b5e1-4690-8a05-c706fa47eb33",
   "metadata": {},
   "outputs": [
    {
     "name": "stdout",
     "output_type": "stream",
     "text": [
      "0    is upset that he can't update his Facebook by ...\n",
      "1    USERNAME I dived many times for the ball. Mana...\n",
      "2      my whole body feels itchy and like its on fire \n",
      "3    USERNAME no, it's not behaving at all. i'm mad...\n",
      "4                         USERNAME not the whole crew \n",
      "Name: @switchfoot http://twitpic.com/2y1zl - Awww, that's a bummer.  You shoulda got David Carr of Third Day to do it. ;D, dtype: object\n",
      "0    is upset that he can't update his Facebook by ...\n",
      "1    @Kenichan I dived many times for the ball. Man...\n",
      "2      my whole body feels itchy and like its on fire \n",
      "3    @nationwideclass no, it's not behaving at all....\n",
      "4                        @Kwesidei not the whole crew \n",
      "Name: @switchfoot http://twitpic.com/2y1zl - Awww, that's a bummer.  You shoulda got David Carr of Third Day to do it. ;D, dtype: object\n",
      "0    is upset that he can't update his facebook by ...\n",
      "1    @kenichan i dived many times for the ball. man...\n",
      "2       my whole body feels itchy and like its on fire\n",
      "3    @nationwideclass no, it's not behaving at all....\n",
      "4                         @kwesidei not the whole crew\n",
      "Name: @switchfoot http://twitpic.com/2y1zl - Awww, that's a bummer.  You shoulda got David Carr of Third Day to do it. ;D, dtype: object\n"
     ]
    }
   ],
   "source": [
    "print(pro.token_user(thingy))\n",
    "print(pro.token_url(thingy))\n",
    "print(pro.make_lower(thingy))\n"
   ]
  },
  {
   "cell_type": "code",
   "execution_count": null,
   "id": "211a4ffa-a262-43a2-bb29-9b84fd18fe1a",
   "metadata": {},
   "outputs": [],
   "source": []
  }
 ],
 "metadata": {
  "kernelspec": {
   "display_name": "Python 3",
   "language": "python",
   "name": "python3"
  },
  "language_info": {
   "codemirror_mode": {
    "name": "ipython",
    "version": 3
   },
   "file_extension": ".py",
   "mimetype": "text/x-python",
   "name": "python",
   "nbconvert_exporter": "python",
   "pygments_lexer": "ipython3",
   "version": "3.9.2"
  }
 },
 "nbformat": 4,
 "nbformat_minor": 5
}

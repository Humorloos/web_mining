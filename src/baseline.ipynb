{
 "cells": [
  {
   "cell_type": "code",
   "execution_count": 6,
   "metadata": {},
   "outputs": [],
   "source": [
    "from baseline.baseline import *\n",
    "from sklearn.metrics import confusion_matrix, accuracy_score, ConfusionMatrixDisplay"
   ]
  },
  {
   "cell_type": "code",
   "execution_count": 10,
   "metadata": {},
   "outputs": [],
   "source": [
    "# load sentiment word lists for baseline method\n",
    "NEGATIVE_WORDS=read_sentiment_words_dict(\"baseline/data/negative_words.txt\")\n",
    "POSITIVE_WORDS=read_sentiment_words_dict(\"baseline/data/positive_words.txt\")\n",
    "\n",
    "# training data path\n",
    "TRAINING_DATA_FILE=\"../data/training_dataset.csv\"\n",
    "# evaluation data path\n",
    "EVALUATION_DATA_FILE=\"../data/evaluation_dataset.csv\"\n",
    "# output files\n",
    "TRAINING_BASELINE_FILE=\"../data/training_baseline.csv\"\n",
    "EVALUATION_BASELINE_FILE=\"../data/evaluation_baseline.csv\"\n",
    "# labels\n",
    "LABELS=[\"negative\",\"positive\"]"
   ]
  },
  {
   "cell_type": "code",
   "execution_count": 3,
   "metadata": {},
   "outputs": [],
   "source": [
    "# load datasets\n",
    "training_dataset=pd.read_csv(TRAINING_DATA_FILE,engine=\"python\",delimiter=\",\")\n",
    "training_tweets=training_dataset[\"prep_text\"].apply(lambda tweet: str(tweet))\n",
    "training_sentiment_targets=training_dataset[\"sentiment\"].apply(lambda sentiment: int(sentiment))\n",
    "\n",
    "evaluation_dataset=pd.read_csv(EVALUATION_DATA_FILE,engine=\"python\",delimiter=\",\")\n",
    "evaluation_tweets=evaluation_dataset[\"prep_text\"].apply(lambda tweet: str(tweet))\n",
    "evaluation_sentiment_targets=evaluation_dataset[\"sentiment\"].apply(lambda sentiment: int(sentiment))"
   ]
  },
  {
   "cell_type": "code",
   "execution_count": 4,
   "metadata": {},
   "outputs": [
    {
     "name": "stdout",
     "output_type": "stream",
     "text": [
      "(2169663, 3)\n",
      "(199, 3)\n"
     ]
    }
   ],
   "source": [
    "# some statistics\n",
    "print(training_dataset.shape)\n",
    "print(evaluation_dataset.shape)"
   ]
  },
  {
   "cell_type": "code",
   "execution_count": 8,
   "metadata": {},
   "outputs": [
    {
     "name": "stderr",
     "output_type": "stream",
     "text": [
      "100%|██████████| 2169663/2169663 [28:29<00:00, 1268.90it/s]\n",
      "100%|██████████| 2169663/2169663 [00:02<00:00, 760254.97it/s] \n",
      "100%|██████████| 2169663/2169663 [00:02<00:00, 799940.77it/s] \n",
      "100%|██████████| 2169663/2169663 [00:03<00:00, 715540.73it/s] \n",
      "100%|██████████| 199/199 [00:00<00:00, 1211.75it/s]\n",
      "100%|██████████| 199/199 [00:00<00:00, 165477.10it/s]\n",
      "100%|██████████| 199/199 [00:00<00:00, 151619.71it/s]\n",
      "100%|██████████| 199/199 [00:00<00:00, 161757.07it/s]\n"
     ]
    }
   ],
   "source": [
    "# apply baseline\n",
    "training_baseline=training_tweets.progress_apply(lambda tweet: apply_baseline(tweet,word_count=True))\n",
    "training_estimates=training_baseline.progress_apply(lambda data_dict: data_dict[\"baseline\"])\n",
    "training_negative_count=training_baseline.progress_apply(lambda data_dict: data_dict[\"negative_count\"])\n",
    "training_positive_count=training_baseline.progress_apply(lambda data_dict: data_dict[\"positive_count\"])\n",
    "\n",
    "evaluation_baseline=evaluation_tweets.progress_apply(lambda tweet: apply_baseline(tweet,word_count=True))\n",
    "evaluation_estimates=evaluation_baseline.progress_apply(lambda data_dict: data_dict[\"baseline\"])\n",
    "evaluation_negative_count=evaluation_baseline.progress_apply(lambda data_dict: data_dict[\"negative_count\"])\n",
    "evaluation_positive_count=evaluation_baseline.progress_apply(lambda data_dict: data_dict[\"positive_count\"])"
   ]
  },
  {
   "cell_type": "code",
   "execution_count": 9,
   "metadata": {},
   "outputs": [],
   "source": [
    "# insert to dataframes\n",
    "training_dataset.insert(3, \"baseline\", training_estimates)\n",
    "training_dataset.insert(4, \"positive_count\", training_positive_count)\n",
    "training_dataset.insert(5, \"negative_count\", training_negative_count)\n",
    "\n",
    "evaluation_dataset.insert(3, \"baseline\", evaluation_estimates)\n",
    "evaluation_dataset.insert(4, \"positive_count\", evaluation_positive_count)\n",
    "evaluation_dataset.insert(5, \"negative_count\", evaluation_negative_count)"
   ]
  },
  {
   "cell_type": "code",
   "execution_count": 13,
   "metadata": {},
   "outputs": [],
   "source": [
    "training_dataset.to_csv(TRAINING_BASELINE_FILE, index=False, quoting=csv.QUOTE_ALL)\n",
    "evaluation_dataset.to_csv(EVALUATION_BASELINE_FILE, index=False, quoting=csv.QUOTE_ALL)"
   ]
  },
  {
   "cell_type": "code",
   "execution_count": 19,
   "metadata": {},
   "outputs": [
    {
     "name": "stdout",
     "output_type": "stream",
     "text": [
      "training accuracy: 55.73 %\n",
      "evaluation accuracy: 68.84 %\n"
     ]
    },
    {
     "data": {
      "text/plain": [
       "<sklearn.metrics._plot.confusion_matrix.ConfusionMatrixDisplay at 0x7f2afbd8c310>"
      ]
     },
     "execution_count": 19,
     "metadata": {},
     "output_type": "execute_result"
    },
    {
     "data": {
      "image/png": "[encoded data removed]",
      "text/plain": [
       "<Figure size 432x288 with 2 Axes>"
      ]
     },
     "metadata": {
      "needs_background": "light"
     },
     "output_type": "display_data"
    },
    {
     "data": {
      "image/png": "[encoded data removed]",
      "text/plain": [
       "<Figure size 432x288 with 2 Axes>"
      ]
     },
     "metadata": {
      "needs_background": "light"
     },
     "output_type": "display_data"
    }
   ],
   "source": [
    "# calculate metric values\n",
    "training_confusion_matrix=confusion_matrix(training_sentiment_targets, training_estimates)\n",
    "training_accuracy=accuracy_score(training_sentiment_targets, training_estimates)\n",
    "print(f\"training accuracy: {round(training_accuracy*100, 2)} %\")\n",
    "ConfusionMatrixDisplay.from_predictions(training_sentiment_targets, training_estimates)\n",
    "\n",
    "evaluation_confusion_matrix=confusion_matrix(evaluation_sentiment_targets, evaluation_estimates)\n",
    "evaluation_accuracy=accuracy_score(evaluation_sentiment_targets, evaluation_estimates)\n",
    "print(f\"evaluation accuracy: {round(evaluation_accuracy*100, 2)} %\")\n",
    "ConfusionMatrixDisplay.from_predictions(evaluation_sentiment_targets, evaluation_estimates)"
   ]
  }
 ],
 "metadata": {
  "interpreter": {
   "hash": "04b5a7023900b512fecb086bd81f7b7930d91e2586f80674e410120528228ecc"
  },
  "kernelspec": {
   "display_name": "Python 3.8.10 ('env1')",
   "language": "python",
   "name": "python3"
  },
  "language_info": {
   "codemirror_mode": {
    "name": "ipython",
    "version": 3
   },
   "file_extension": ".py",
   "mimetype": "text/x-python",
   "name": "python",
   "nbconvert_exporter": "python",
   "pygments_lexer": "ipython3",
   "version": "3.8.10"
  },
  "orig_nbformat": 4
 },
 "nbformat": 4,
 "nbformat_minor": 2
}

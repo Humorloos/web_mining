{
 "cells": [
  {
   "cell_type": "code",
   "execution_count": 2,
   "metadata": {
    "collapsed": true,
    "pycharm": {
     "name": "#%%\n"
    }
   },
   "outputs": [],
   "source": [
    "import os\n",
    "from datetime import timedelta, datetime, timezone\n",
    "\n",
    "import pandas as pd\n",
    "import torch\n",
    "from ray import tune\n",
    "from ray.tune import CLIReporter\n",
    "from ray.tune.suggest.bohb import TuneBOHB\n",
    "from ray.tune.schedulers import HyperBandForBOHB\n",
    "\n",
    "from src.constants.constants import TRANSFORMER_DIR, MAX_BATCH_SIZE, VAL_CHECK_INTERVAL, MAX_EPOCHS\n",
    "from src.transformer.trainClassifier import train_classifier"
   ]
  },
  {
   "cell_type": "code",
   "execution_count": null,
   "outputs": [],
   "source": [
    "RAY_RESULTS_DIR = TRANSFORMER_DIR / 'ray_results'\n",
    "\n",
    "local_timezone = datetime.now(timezone(timedelta(0))).astimezone().tzinfo\n",
    "start_timestamp = pd.Timestamp.today(tz=local_timezone).strftime('%Y-%m-%d_%H.%M')\n",
    "MIN_DELTA = 0.01  # minimum delta in validation loss for early stopping\n",
    "# todo: set this depending on machine (e.g., os.cpu_count())\n",
    "MAX_WORKERS = os.cpu_count()\n",
    "# todo: set this depending on machine (e.g., torch.cuda.device_count())\n",
    "MAX_GPUS = 0\n",
    "NUM_SAMPLES = 50\n",
    "RUN_NAME = \"test\"\n",
    "# RESUME = 'LOCAL'  # 'LOCAL' resumes at last checkpoint, False starts new trial\n",
    "RESUME = False  # 'LOCAL' resumes at last checkpoint, False starts new trial"
   ],
   "metadata": {
    "collapsed": false,
    "pycharm": {
     "name": "#%%\n"
    }
   }
  },
  {
   "cell_type": "code",
   "execution_count": null,
   "outputs": [],
   "source": [
    "config = {\n",
    "    'batch_size_train': tune.qloguniform(8, MAX_BATCH_SIZE, q=1),\n",
    "    'num_workers': MAX_WORKERS,\n",
    "    'optimizer': torch.optim.AdamW,\n",
    "    'lr': tune.loguniform(1e-4, 1e-1),\n",
    "    'weight_decay': tune.loguniform(1e-7, 1e-1),\n",
    "    'dropout_prob': tune.uniform(0.1, 0.5),\n",
    "}"
   ],
   "metadata": {
    "collapsed": false,
    "pycharm": {
     "name": "#%%\n"
    }
   }
  },
  {
   "cell_type": "code",
   "execution_count": null,
   "outputs": [],
   "source": [
    "\n",
    "\n",
    "# Reporter for reporting progress in command line\n",
    "reporter = CLIReporter(\n",
    "    parameter_columns=[\"batch_size_train\", \"lr\", \"weight_decay\", \"dropout_prob\"],\n",
    "    metric_columns=[\"loss\", \"accuracy\", \"training_iteration\"])\n",
    "\n",
    "# BOHB search algorithm for finding new hyperparameter configurations\n",
    "search_alg = TuneBOHB(metric='loss', mode='min')\n",
    "\n",
    "# BOHB scheduler for scheduling and discarding trials\n",
    "iterations_per_epoch = 1 / VAL_CHECK_INTERVAL\n",
    "scheduler = HyperBandForBOHB(\n",
    "    time_attr=\"training_iteration\",\n",
    "    # train for at most the number of iterations that fit into the max number of epochs\n",
    "    max_t=MAX_EPOCHS * iterations_per_epoch\n",
    ")\n",
    "\n",
    "\n",
    "def get_trial_name(trial):\n",
    "    \"\"\"Function for generating trial names\"\"\"\n",
    "    return f\"{pd.Timestamp.today(tz=local_timezone).strftime('%Y-%m-%d_%H.%M')}_{trial.trial_id}\""
   ],
   "metadata": {
    "collapsed": false,
    "pycharm": {
     "name": "#%%\n"
    }
   }
  },
  {
   "cell_type": "code",
   "execution_count": null,
   "outputs": [],
   "source": [
    "# run hyperparameter optimization\n",
    "analysis = tune.run(\n",
    "    tune.with_parameters(\n",
    "        train_classifier,\n",
    "        do_tune=True\n",
    "    ),\n",
    "    metric=\"loss\",\n",
    "    mode=\"min\",\n",
    "    config=config,\n",
    "    num_samples=NUM_SAMPLES,\n",
    "    scheduler=scheduler,\n",
    "    name=RUN_NAME,\n",
    "    local_dir=RAY_RESULTS_DIR,\n",
    "    trial_name_creator=get_trial_name,\n",
    "    trial_dirname_creator=get_trial_name,\n",
    "    resume=RESUME,\n",
    "    resources_per_trial={\n",
    "        'gpu': MAX_GPUS,\n",
    "        'cpu': MAX_WORKERS\n",
    "    },\n",
    "    search_alg=search_alg,\n",
    "    progress_reporter=reporter,\n",
    ")\n"
   ],
   "metadata": {
    "collapsed": false,
    "pycharm": {
     "name": "#%%\n"
    }
   }
  }
 ],
 "metadata": {
  "kernelspec": {
   "display_name": "Python 3",
   "language": "python",
   "name": "python3"
  },
  "language_info": {
   "codemirror_mode": {
    "name": "ipython",
    "version": 2
   },
   "file_extension": ".py",
   "mimetype": "text/x-python",
   "name": "python",
   "nbconvert_exporter": "python",
   "pygments_lexer": "ipython2",
   "version": "2.7.6"
  }
 },
 "nbformat": 4,
 "nbformat_minor": 0
}
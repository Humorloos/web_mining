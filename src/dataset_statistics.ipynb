{
 "cells": [
  {
   "cell_type": "markdown",
   "metadata": {},
   "source": [
    "## Define local constants\n",
    "Change these constants based on your needs."
   ]
  },
  {
   "cell_type": "code",
   "execution_count": 45,
   "metadata": {},
   "outputs": [],
   "source": [
    "# Input data path\n",
    "INPUT_DATASETS_TRAINING_CSV = \"../data/preprocessed_data/training_dataset_non_lemmatized.csv\"\n",
    "INPUT_DATASETS_TRAINING_LEM = \"../data/preprocessed_data/training_dataset.csv\"\n",
    "INPUT_DATASETS_EVALUATION_LEM = \"../data/preprocessed_data/evaluation_dataset.csv\"\n",
    "INPUT_DATASETS_EVALUATION = \"../data/preprocessed_data/evaluation_dataset_non_lemmatized.csv\"\n",
    "INPUT_DATASET_SST2 = \"../data/preprocessed_data/sst2_dict.txt\"\n",
    "INPUT_DATASET_SST2_SENTIMENTS = \"../data/preprocessed_data/sst2.txt\"\n",
    "INPUT_DATASET_ORGINAL = \"../data/preprocessed_data/orginal/evaluation_paper.csv\"\n",
    "INPUT_DATASET_ORGINAL2 = \"../data/preprocessed_data/orginal/training_paper.csv\"\n",
    "METHOD_NAME = \"dataset_statistics\"\n",
    "OUTPUT_RESULTS = f\"../data/results/{METHOD_NAME}_model.txt\"\n",
    "PATH =\"C:/Users/Henry/git/WebMining/roni/web_mining-roni/\""
   ]
  },
  {
   "cell_type": "markdown",
   "metadata": {},
   "source": [
    "## Import necessary libraries"
   ]
  },
  {
   "cell_type": "code",
   "execution_count": 46,
   "metadata": {},
   "outputs": [],
   "source": [
    "import pickle\n",
    "import glob\n",
    "import yaml\n",
    "import re\n",
    "import pandas as pd\n",
    "import numpy as np\n",
    "import matplotlib.pyplot as plt\n",
    "from pathlib import Path\n",
    "from sklearn import svm\n",
    "from collections import Counter\n",
    "from sklearn.feature_extraction.text import CountVectorizer\n",
    "from sklearn.model_selection import cross_val_score\n",
    "from sklearn.model_selection import GridSearchCV\n",
    "from sklearn.model_selection import StratifiedKFold\n",
    "from sklearn.pipeline import Pipeline\n",
    "from sklearn.metrics import confusion_matrix\n",
    "from sklearn.metrics import accuracy_score\n",
    "from sklearn.metrics import classification_report"
   ]
  },
  {
   "cell_type": "markdown",
   "metadata": {},
   "source": [
    "## Load and prepare the datasets\n"
   ]
  },
  {
   "cell_type": "code",
   "execution_count": 47,
   "metadata": {
    "scrolled": false
   },
   "outputs": [],
   "source": [
    "dfTraining = pd.read_csv(INPUT_DATASETS_TRAINING_CSV, engine=\"python\", delimiter=\",\")\n",
    "dfTrainingLemmatized = pd.read_csv(INPUT_DATASETS_TRAINING_LEM, engine=\"python\", delimiter=\",\")\n",
    "dfEvaluation = pd.read_csv(INPUT_DATASETS_EVALUATION, engine=\"python\", delimiter=\",\")\n",
    "dfEvaluationLemmatized = pd.read_csv(INPUT_DATASETS_EVALUATION_LEM, engine=\"python\", delimiter=\",\")\n",
    "\n",
    "\n",
    "# original paper ds and preprocessing  \n",
    "dfPaperEvaluationDS = pd.read_csv(INPUT_DATASET_ORGINAL, engine=\"python\", delimiter=\",\" , encoding='latin-1')\n",
    "#dfPaperEvaluationDS = dfPaperEvaluationDS.drop([\"ID\", \"Date\", \"NoQuery\", \"User\"],1)\n",
    "#dfPaperEvaluationDS.loc[dfPaperEvaluationDS.sentiment ==4,'sentiment'] = 1\n",
    "\n",
    "#SST2 ds\n",
    "dfSST2 = pd.read_csv(INPUT_DATASET_SST2, engine=\"python\", delimiter=\"|\") \n",
    "dfSST2_Sentiments = pd.read_csv(INPUT_DATASET_SST2_SENTIMENTS, engine=\"python\", delimiter=\",\") \n",
    "dfSST2_Sentiments.loc[dfSST2_Sentiments.splitset_label==1,'sentiment'] = 0\n",
    "dfSST2_Sentiments.loc[dfSST2_Sentiments.splitset_label==2,'sentiment'] = 1\n",
    "dfSST2.rename(columns ={'0': \"sentence_index\"},inplace=True)\n",
    "dfSST2.rename(columns ={'!': \"prep_text\"},inplace=True)\n",
    "dfSST2[\"prep_text\"] = dfSST2[\"prep_text\"].str.lower()"
   ]
  },
  {
   "cell_type": "code",
   "execution_count": 48,
   "metadata": {},
   "outputs": [],
   "source": [
    "#Remove words\n",
    "filter = [\"USERNAME\", \"EMO\", \"URL\"]\n",
    "f = lambda x: ' '.join([item for item in str(x).split() if item not in filter])\n",
    "dfTraining[\"prep_text\"] = dfTraining[\"prep_text\"].apply(f)\n",
    "dfTrainingLemmatized[\"prep_text\"] = dfTrainingLemmatized[\"prep_text\"].apply(f)\n",
    "dfEvaluation[\"prep_text\"] = dfEvaluation[\"prep_text\"].apply(f)\n",
    "dfEvaluationLemmatized[\"prep_text\"] = dfEvaluationLemmatized[\"prep_text\"].apply(f)\n",
    "dfPaperEvaluationDS[\"prep_text\"] = dfPaperEvaluationDS[\"prep_text\"].apply(f)"
   ]
  },
  {
   "cell_type": "code",
   "execution_count": 39,
   "metadata": {},
   "outputs": [],
   "source": [
    "def fileSize(paths):\n",
    "    results_dict={}\n",
    "    results_dict[\"file_size\"] =Path(r''+PATH+paths.replace(\"..\",\"\",1)).stat().st_size\n",
    "    print(\"The file size is:\", results_dict[\"file_size\"],\"bytes\") \n",
    "    return results_dict"
   ]
  },
  {
   "cell_type": "markdown",
   "metadata": {},
   "source": [
    "## Length of tweets"
   ]
  },
  {
   "cell_type": "code",
   "execution_count": 40,
   "metadata": {},
   "outputs": [],
   "source": [
    "def lengthStatistics(df):\n",
    "    results_dict= {}\n",
    "            \n",
    "    results_dict[\"avg_length\"] = df[\"prep_text\"].str.len().mean()\n",
    "    print(\"The average character length of contained tweets: \", results_dict[\"avg_length\"])\n",
    "    results_dict[\"max_length\"] = df[\"prep_text\"].str.len().max()\n",
    "    print(\"The max character length in contained tweets: \",results_dict[\"max_length\"])\n",
    "    results_dict[\"avg_word_length\"] = df[\"prep_text\"].str.split().apply(len).mean()\n",
    "    print(\"The average word count in contained tweets: \",results_dict[\"avg_word_length\"])\n",
    "    results_dict[\"max_word_length\"] = df[\"prep_text\"].str.split().apply(len).max()\n",
    "    print(\"The max word count in contained tweets: \",results_dict[\"max_word_length\"])\n",
    "    results_dict[\"numberOfWords\"] = df.shape[0]\n",
    "    print(\"Number of records in dataset \",results_dict[\"numberOfWords\"])\n",
    "    df[\"prep_text_length\"] = df[\"prep_text\"].str.len()\n",
    "    results_dict[\"ax\"] = df.hist(column='prep_text_length', bins=25, grid=False, figsize=(12,8), color='#86bf91', rwidth=0.9)     \n",
    "    return results_dict\n",
    "        \n",
    "\n"
   ]
  },
  {
   "cell_type": "markdown",
   "metadata": {},
   "source": [
    "## Number of (unique) words"
   ]
  },
  {
   "cell_type": "code",
   "execution_count": 42,
   "metadata": {},
   "outputs": [],
   "source": [
    "def uniqueWords(df):\n",
    "    unique = set()\n",
    "    df['prep_text'].str.lower().str.split().apply(unique.update)\n",
    "    return len(unique)\n",
    "\n",
    "def allWords(df):\n",
    "    return sum(df['prep_text'].apply(lambda x: len(str(x).split(' '))))\n",
    "    "
   ]
  },
  {
   "cell_type": "code",
   "execution_count": 44,
   "metadata": {},
   "outputs": [
    {
     "name": "stdout",
     "output_type": "stream",
     "text": [
      "357888\n"
     ]
    },
    {
     "data": {
      "text/plain": [
       "24286176"
      ]
     },
     "execution_count": 44,
     "metadata": {},
     "output_type": "execute_result"
    }
   ],
   "source": [
    "print(uniqueWords(dfTraining))\n",
    "allWords(dfTraining)\n"
   ]
  },
  {
   "cell_type": "markdown",
   "metadata": {},
   "source": [
    "## Most common words"
   ]
  },
  {
   "cell_type": "code",
   "execution_count": 41,
   "metadata": {},
   "outputs": [],
   "source": [
    "def mostCommonWords(df):\n",
    "    \n",
    "    stopwords = [\"i\", \"me\", \"my\", \"myself\", \"we\", \"our\", \"ours\", \"ourselves\", \"you\", \"your\", \"yours\", \"yourself\", \"yourselves\", \"he\", \"him\", \"his\", \"himself\", \"she\", \"her\", \"hers\", \"herself\", \"it\", \"its\", \"itself\", \"they\", \"them\", \"their\", \"theirs\", \"themselves\", \"what\", \"which\", \"who\", \"whom\", \"this\", \"that\", \"these\", \"those\", \"am\", \"is\", \"are\", \"was\", \"were\", \"be\", \"been\", \"being\", \"have\", \"has\", \"had\", \"having\", \"do\", \"does\", \"did\", \"doing\", \"a\", \"an\", \"the\", \"and\", \"but\", \"if\", \"or\", \"because\", \"as\", \"until\", \"while\", \"of\", \"at\", \"by\", \"for\", \"with\", \"about\", \"against\", \"between\", \"into\", \"through\", \"during\", \"before\", \"after\", \"above\", \"below\", \"to\", \"from\", \"up\", \"down\", \"in\", \"out\", \"on\", \"off\", \"over\", \"under\", \"again\", \"further\", \"then\", \"once\", \"here\", \"there\", \"when\", \"where\", \"why\", \"how\", \"all\", \"any\", \"both\", \"each\", \"few\", \"more\", \"most\", \"other\", \"some\", \"such\", \"no\", \"nor\", \"not\", \"only\", \"own\", \"same\", \"so\", \"than\", \"too\", \"very\", \"s\", \"t\", \"can\", \"will\", \"just\", \"don\", \"should\", \"now\", \"(\",\")\",\"'\",\"--\",\"''\",\"n't\",\"'s\",\".\",\",\",\"...\",'`']\n",
    "    f = lambda x: ' '.join([item for item in str(x).split() if item not in stopwords])\n",
    "    df[\"prep_text\"] = df[\"prep_text\"].apply(f)\n",
    "    return Counter(\" \".join(df[\"prep_text\"]).split()).most_common(10)  \n",
    "    "
   ]
  },
  {
   "cell_type": "markdown",
   "metadata": {},
   "source": [
    "## Class distribution"
   ]
  },
  {
   "cell_type": "code",
   "execution_count": 42,
   "metadata": {},
   "outputs": [],
   "source": [
    "def classDistribution(df):\n",
    "    results_dict= {}\n",
    "    results_dict[\"freq\"] =df.groupby([\"sentiment\"]).count()\n",
    "    print(results_dict[\"freq\"])\n",
    "    return results_dict"
   ]
  },
  {
   "cell_type": "code",
   "execution_count": 43,
   "metadata": {},
   "outputs": [
    {
     "name": "stdout",
     "output_type": "stream",
     "text": [
      "Results  Trainings dataset lemmatized\n",
      "The average character length of contained tweets:  54.216779287843316\n",
      "The max character length in contained tweets:  282\n",
      "The average word count in contained tweets:  11.193079754782195\n",
      "The max word count in contained tweets:  75\n",
      "Number of records in dataset  2169663\n",
      "Results  Evaluation dataset lemmatized\n",
      "The average character length of contained tweets:  62.88944723618091\n",
      "The max character length in contained tweets:  262\n",
      "The average word count in contained tweets:  13.020100502512562\n",
      "The max word count in contained tweets:  54\n",
      "Number of records in dataset  199\n",
      "Results  Trainings dataset\n",
      "The average character length of contained tweets:  56.22095110710844\n",
      "The max character length in contained tweets:  287\n",
      "The average word count in contained tweets:  11.193067488423306\n",
      "The max word count in contained tweets:  75\n",
      "Number of records in dataset  2169661\n",
      "Results  Evaluation dataset\n",
      "The average character length of contained tweets:  65.39195979899498\n",
      "The max character length in contained tweets:  267\n",
      "The average word count in contained tweets:  13.020100502512562\n",
      "The max word count in contained tweets:  54\n",
      "Number of records in dataset  199\n",
      "Results  Scientific Paper dataset\n",
      "The average character length of contained tweets:  70.71866295264624\n",
      "The max character length in contained tweets:  140\n",
      "The average word count in contained tweets:  13.676880222841225\n",
      "The max word count in contained tweets:  30\n",
      "Number of records in dataset  359\n",
      "Results  SST2 dataset\n",
      "The average character length of contained tweets:  42.66447910178865\n",
      "The max character length in contained tweets:  267\n",
      "The average word count in contained tweets:  7.758116632041834\n",
      "The max word count in contained tweets:  56\n",
      "Number of records in dataset  239231\n",
      "Results  Trainings dataset lemmatized\n",
      "           full_text  prep_text  prep_text_length\n",
      "sentiment                                        \n",
      "0            1088660    1088660           1088660\n",
      "1            1081003    1081003           1081003\n",
      "Results  Evaluation dataset lemmatized\n",
      "           full_text  prep_text  prep_text_length\n",
      "sentiment                                        \n",
      "0                 99         99                99\n",
      "1                100        100               100\n",
      "Results  Trainings dataset\n",
      "           full_text  prep_text  prep_text_length\n",
      "sentiment                                        \n",
      "0            1088659    1088659           1088659\n",
      "1            1081002    1081002           1081002\n",
      "Results  Evaluation dataset\n",
      "           full_text  prep_text  prep_text_length\n",
      "sentiment                                        \n",
      "0                 99         99                99\n",
      "1                100        100               100\n",
      "Results  Scientific Paper dataset\n",
      "           full_text  prep_text  prep_text_lemmatized  prep_text_length\n",
      "sentiment                                                              \n",
      "0                177        177                   177               177\n",
      "1                182        182                   182               182\n",
      "Results  SST2 dataset\n",
      "           sentence_index  splitset_label\n",
      "sentiment                                \n",
      "0.0                  8544            8544\n",
      "1.0                  2210            2210\n",
      "Results  Trainings dataset lemmatized\n",
      "The file size is: 353482419 bytes\n",
      "Results  Evaluation dataset lemmatized\n",
      "The file size is: 35111 bytes\n",
      "Results  Trainings dataset\n",
      "The file size is: 357830266 bytes\n",
      "Results  Evaluation dataset\n",
      "The file size is: 35609 bytes\n",
      "Results  Scientific Paper dataset\n",
      "The file size is: 86954 bytes\n",
      "Results  SST2 dataset\n",
      "The file size is: 12010637 bytes\n"
     ]
    },
    {
     "data": {
      "image/png": "[encoded data removed]",
      "text/plain": [
       "<Figure size 864x576 with 1 Axes>"
      ]
     },
     "metadata": {
      "needs_background": "light"
     },
     "output_type": "display_data"
    },
    {
     "data": {
      "image/png": "[encoded data removed]",
      "text/plain": [
       "<Figure size 864x576 with 1 Axes>"
      ]
     },
     "metadata": {
      "needs_background": "light"
     },
     "output_type": "display_data"
    },
    {
     "data": {
      "image/png": "[encoded data removed]",
      "text/plain": [
       "<Figure size 864x576 with 1 Axes>"
      ]
     },
     "metadata": {
      "needs_background": "light"
     },
     "output_type": "display_data"
    },
    {
     "data": {
      "image/png": "[encoded data removed]",
      "text/plain": [
       "<Figure size 864x576 with 1 Axes>"
      ]
     },
     "metadata": {
      "needs_background": "light"
     },
     "output_type": "display_data"
    },
    {
     "data": {
      "image/png": "[encoded data removed]",
      "text/plain": [
       "<Figure size 864x576 with 1 Axes>"
      ]
     },
     "metadata": {
      "needs_background": "light"
     },
     "output_type": "display_data"
    },
    {
     "data": {
      "image/png": "[encoded data removed]",
      "text/plain": [
       "<Figure size 864x576 with 1 Axes>"
      ]
     },
     "metadata": {
      "needs_background": "light"
     },
     "output_type": "display_data"
    }
   ],
   "source": [
    "\n",
    "names = [\"Trainings dataset lemmatized\",\"Evaluation dataset lemmatized\", \"Trainings dataset\", \"Evaluation dataset\", \"Scientific Paper dataset\",\"SST2 dataset\"]\n",
    "tweets = [dfTrainingLemmatized, dfEvaluationLemmatized, dfTraining, dfEvaluation, dfPaperEvaluationDS, dfSST2]\n",
    "sentiments = [dfTrainingLemmatized, dfEvaluationLemmatized, dfTraining, dfEvaluation, dfPaperEvaluationDS, dfSST2_Sentiments]\n",
    "filePaths = [ INPUT_DATASETS_TRAINING_LEM, INPUT_DATASETS_EVALUATION_LEM, INPUT_DATASETS_TRAINING_CSV,INPUT_DATASETS_EVALUATION, INPUT_DATASET_ORGINAL, INPUT_DATASET_SST2]\n",
    "results_dict_lengthStatistics = {}\n",
    "results_dict_mostCommonWords = {}\n",
    "results_dict_sentiments = {}\n",
    "results_dict_filesize = {}\n",
    "results_dict_all ={}\n",
    "for n,t in enumerate(tweets):\n",
    "    print(\"Results \",names[n])\n",
    "    results_dict_lengthStatistics[names[n]+\" length statistics\"] = lengthStatistics(t)\n",
    "    results_dict_mostCommonWords[names[n]+\" most common words statistics\"] = mostCommonWords(t)\n",
    "\n",
    "for n,s in enumerate(sentiments):\n",
    "    print(\"Results \",names[n])    \n",
    "    results_dict_sentiments[names[n]+\" sentiment distribution\"] = classDistribution(s)\n",
    "for n,f in enumerate(filePaths):\n",
    "    print(\"Results \",names[n])    \n",
    "    results_dict_filesize[names[n]+\" file Size\"]=fileSize(f)\n",
    "\n",
    "results_dict_all = results_dict_lengthStatistics, results_dict_mostCommonWords, results_dict_sentiments,results_dict_filesize\n",
    "\n",
    "#print(results_dict_all)\n",
    "#results = yaml.dump(results_dict_all)\n",
    "\n",
    "with open(OUTPUT_RESULTS, \"w\") as file:\n",
    "    file.write(str(results_dict_all))"
   ]
  }
 ],
 "metadata": {
  "interpreter": {
   "hash": "81cdc1f603c531e315611687e7017b82f1a63eb722700c5abd5d378c82d30cc5"
  },
  "kernelspec": {
   "display_name": "Python 3.9.7 ('base')",
   "language": "python",
   "name": "python3"
  },
  "language_info": {
   "codemirror_mode": {
    "name": "ipython",
    "version": 3
   },
   "file_extension": ".py",
   "mimetype": "text/x-python",
   "name": "python",
   "nbconvert_exporter": "python",
   "pygments_lexer": "ipython3",
   "version": "3.9.7"
  }
 },
 "nbformat": 4,
 "nbformat_minor": 2
}

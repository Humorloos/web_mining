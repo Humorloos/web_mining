{
 "cells": [
  {
   "cell_type": "markdown",
   "metadata": {},
   "source": [
    "## Define local constants\n",
    "Change these constants based on your needs."
   ]
  },
  {
   "cell_type": "code",
   "execution_count": 37,
   "metadata": {},
   "outputs": [],
   "source": [
    "INPUT_FILE = \"../data/crawled_data/positive_tweets_590k.csv\"\n",
    "OUTPUT_FILE = \"../data/preprocessed_data/positive_tweets_preprocessed_590k.csv\""
   ]
  },
  {
   "cell_type": "markdown",
   "metadata": {},
   "source": [
    "## Prepare preprocessing"
   ]
  },
  {
   "cell_type": "code",
   "execution_count": 38,
   "metadata": {},
   "outputs": [],
   "source": [
    "import pandas as pd\n",
    "import csv\n",
    "from preprocessors.twitter_preprocessor import TwitterPreprocessor\n",
    "twitter_preprocessor = TwitterPreprocessor()"
   ]
  },
  {
   "cell_type": "markdown",
   "metadata": {},
   "source": [
    "## Load the crawled data\n",
    "Note that the crawled data should contain at least the following fields:\n",
    "[full_text],[sentiment]"
   ]
  },
  {
   "cell_type": "code",
   "execution_count": 39,
   "metadata": {},
   "outputs": [],
   "source": [
    "# Load the data into pandas data frame from the crawled data archive\n",
    "crawled_data = pd.read_csv(INPUT_FILE, engine=\"python\", delimiter=\",\")"
   ]
  },
  {
   "cell_type": "markdown",
   "metadata": {},
   "source": [
    "## Preprocess the Twitter data"
   ]
  },
  {
   "cell_type": "code",
   "execution_count": 40,
   "metadata": {},
   "outputs": [
    {
     "name": "stderr",
     "output_type": "stream",
     "text": [
      "Pandas Apply: 100%|██████████| 593641/593641 [47:02<00:00, 210.31it/s] \n"
     ]
    }
   ],
   "source": [
    "# Preprocess the data using standard Twitter preprocessor\n",
    "preprocessed_text = crawled_data[\"full_text\"].progress_apply(\n",
    "    lambda tweet: twitter_preprocessor.preprocess_tweet(tweet))"
   ]
  },
  {
   "cell_type": "markdown",
   "metadata": {},
   "source": [
    "## Save the preprocessed data"
   ]
  },
  {
   "cell_type": "code",
   "execution_count": 41,
   "metadata": {},
   "outputs": [],
   "source": [
    "# Construct resulting dataframe\n",
    "preprocessed_data = pd.DataFrame()\n",
    "preprocessed_data.insert(0, \"full_text\", crawled_data[\"full_text\"])\n",
    "preprocessed_data.insert(1, \"prep_text\", preprocessed_text)\n",
    "preprocessed_data.insert(2, \"sentiment\", crawled_data[\"sentiment\"])\n",
    "\n",
    "# Save the preprocessed data to file\n",
    "preprocessed_data.to_csv(OUTPUT_FILE, index=False, quoting=csv.QUOTE_ALL)"
   ]
  }
 ],
 "metadata": {
  "interpreter": {
   "hash": "df7a9a5c37ddd52c7652a98db41541d6c37368917739ba33de99dadb21ef70fe"
  },
  "kernelspec": {
   "display_name": "Python 3.9.7 ('base')",
   "language": "python",
   "name": "python3"
  },
  "language_info": {
   "codemirror_mode": {
    "name": "ipython",
    "version": 3
   },
   "file_extension": ".py",
   "mimetype": "text/x-python",
   "name": "python",
   "nbconvert_exporter": "python",
   "pygments_lexer": "ipython3",
   "version": "3.9.7"
  },
  "orig_nbformat": 4
 },
 "nbformat": 4,
 "nbformat_minor": 2
}

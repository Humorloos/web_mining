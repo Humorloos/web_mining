{
 "cells": [
  {
   "cell_type": "code",
   "execution_count": 1,
   "metadata": {},
   "outputs": [
    {
     "name": "stdout",
     "output_type": "stream",
     "text": [
      "INFO: Pandarallel will run on 8 workers.\n",
      "INFO: Pandarallel will use Memory file system to transfer data between the main process and workers.\n"
     ]
    }
   ],
   "source": [
    "from preprocessors.twitter_preprocessor import *\n",
    "from pandarallel import pandarallel\n",
    "pandarallel.initialize(progress_bar=True)"
   ]
  },
  {
   "cell_type": "code",
   "execution_count": 15,
   "metadata": {},
   "outputs": [
    {
     "data": {
      "text/html": [
       "<div>\n",
       "<style scoped>\n",
       "    .dataframe tbody tr th:only-of-type {\n",
       "        vertical-align: middle;\n",
       "    }\n",
       "\n",
       "    .dataframe tbody tr th {\n",
       "        vertical-align: top;\n",
       "    }\n",
       "\n",
       "    .dataframe thead th {\n",
       "        text-align: right;\n",
       "    }\n",
       "</style>\n",
       "<table border=\"1\" class=\"dataframe\">\n",
       "  <thead>\n",
       "    <tr style=\"text-align: right;\">\n",
       "      <th></th>\n",
       "      <th>text</th>\n",
       "      <th>polarity</th>\n",
       "    </tr>\n",
       "  </thead>\n",
       "  <tbody>\n",
       "    <tr>\n",
       "      <th>0</th>\n",
       "      <td>' ( the cockettes ) provides a window into a s...</td>\n",
       "      <td>0</td>\n",
       "    </tr>\n",
       "    <tr>\n",
       "      <th>1</th>\n",
       "      <td>' a nightmare on elm street</td>\n",
       "      <td>0</td>\n",
       "    </tr>\n",
       "    <tr>\n",
       "      <th>2</th>\n",
       "      <td>' a nightmare on elm street ' or ` the hills</td>\n",
       "      <td>0</td>\n",
       "    </tr>\n",
       "    <tr>\n",
       "      <th>3</th>\n",
       "      <td>' a perfect family film</td>\n",
       "      <td>1</td>\n",
       "    </tr>\n",
       "    <tr>\n",
       "      <th>4</th>\n",
       "      <td>' a perfect family film ,</td>\n",
       "      <td>1</td>\n",
       "    </tr>\n",
       "  </tbody>\n",
       "</table>\n",
       "</div>"
      ],
      "text/plain": [
       "                                                text  polarity\n",
       "0  ' ( the cockettes ) provides a window into a s...         0\n",
       "1                        ' a nightmare on elm street         0\n",
       "2       ' a nightmare on elm street ' or ` the hills         0\n",
       "3                            ' a perfect family film         1\n",
       "4                          ' a perfect family film ,         1"
      ]
     },
     "execution_count": 15,
     "metadata": {},
     "output_type": "execute_result"
    }
   ],
   "source": [
    "sst2 = pd.read_csv(\"../data/sst2.csv\", delimiter=\",\", engine=\"python\",usecols=[\"text\",\"polarity\"])\n",
    "sst2.reset_index(inplace=True)\n",
    "sst2 = sst2[[\"text\", \"polarity\"]]\n",
    "sst2.head()"
   ]
  },
  {
   "cell_type": "code",
   "execution_count": 16,
   "metadata": {},
   "outputs": [
    {
     "data": {
      "application/vnd.jupyter.widget-view+json": {
       "model_id": "5918fe469eb249548e02dae0d00398e7",
       "version_major": 2,
       "version_minor": 0
      },
      "text/plain": [
       "VBox(children=(HBox(children=(IntProgress(value=0, description='0.00%', max=132), Label(value='0 / 132'))), HB…"
      ]
     },
     "metadata": {},
     "output_type": "display_data"
    },
    {
     "data": {
      "application/vnd.jupyter.widget-view+json": {
       "model_id": "2553e63697294ba49a6fc5613f4c5d74",
       "version_major": 2,
       "version_minor": 0
      },
      "text/plain": [
       "VBox(children=(HBox(children=(IntProgress(value=0, description='0.00%', max=132), Label(value='0 / 132'))), HB…"
      ]
     },
     "metadata": {},
     "output_type": "display_data"
    },
    {
     "data": {
      "text/html": [
       "<div>\n",
       "<style scoped>\n",
       "    .dataframe tbody tr th:only-of-type {\n",
       "        vertical-align: middle;\n",
       "    }\n",
       "\n",
       "    .dataframe tbody tr th {\n",
       "        vertical-align: top;\n",
       "    }\n",
       "\n",
       "    .dataframe thead th {\n",
       "        text-align: right;\n",
       "    }\n",
       "</style>\n",
       "<table border=\"1\" class=\"dataframe\">\n",
       "  <thead>\n",
       "    <tr style=\"text-align: right;\">\n",
       "      <th></th>\n",
       "      <th>text</th>\n",
       "      <th>polarity</th>\n",
       "      <th>prep_text</th>\n",
       "      <th>prep_text_lemmatized</th>\n",
       "    </tr>\n",
       "  </thead>\n",
       "  <tbody>\n",
       "    <tr>\n",
       "      <th>0</th>\n",
       "      <td>' ( the cockettes ) provides a window into a s...</td>\n",
       "      <td>0</td>\n",
       "      <td>the cockettes provides a window into a subcult...</td>\n",
       "      <td>the cockettes provide a window into a subcultu...</td>\n",
       "    </tr>\n",
       "    <tr>\n",
       "      <th>1</th>\n",
       "      <td>' a nightmare on elm street</td>\n",
       "      <td>0</td>\n",
       "      <td>a nightmare on elm street</td>\n",
       "      <td>a nightmare on elm street</td>\n",
       "    </tr>\n",
       "    <tr>\n",
       "      <th>2</th>\n",
       "      <td>' a nightmare on elm street ' or ` the hills</td>\n",
       "      <td>0</td>\n",
       "      <td>a nightmare on elm street or the hills</td>\n",
       "      <td>a nightmare on elm street or the hill</td>\n",
       "    </tr>\n",
       "    <tr>\n",
       "      <th>3</th>\n",
       "      <td>' a perfect family film</td>\n",
       "      <td>1</td>\n",
       "      <td>a perfect family film</td>\n",
       "      <td>a perfect family film</td>\n",
       "    </tr>\n",
       "    <tr>\n",
       "      <th>4</th>\n",
       "      <td>' a perfect family film ,</td>\n",
       "      <td>1</td>\n",
       "      <td>a perfect family film</td>\n",
       "      <td>a perfect family film</td>\n",
       "    </tr>\n",
       "  </tbody>\n",
       "</table>\n",
       "</div>"
      ],
      "text/plain": [
       "                                                text  polarity  \\\n",
       "0  ' ( the cockettes ) provides a window into a s...         0   \n",
       "1                        ' a nightmare on elm street         0   \n",
       "2       ' a nightmare on elm street ' or ` the hills         0   \n",
       "3                            ' a perfect family film         1   \n",
       "4                          ' a perfect family film ,         1   \n",
       "\n",
       "                                           prep_text  \\\n",
       "0  the cockettes provides a window into a subcult...   \n",
       "1                          a nightmare on elm street   \n",
       "2             a nightmare on elm street or the hills   \n",
       "3                              a perfect family film   \n",
       "4                              a perfect family film   \n",
       "\n",
       "                                prep_text_lemmatized  \n",
       "0  the cockettes provide a window into a subcultu...  \n",
       "1                          a nightmare on elm street  \n",
       "2              a nightmare on elm street or the hill  \n",
       "3                              a perfect family film  \n",
       "4                              a perfect family film  "
      ]
     },
     "execution_count": 16,
     "metadata": {},
     "output_type": "execute_result"
    }
   ],
   "source": [
    "sst2[\"prep_text\"]=sst2[\"text\"].parallel_apply(lambda tweet: TwitterPreprocessor().preprocess_tweet(tweet,lemmatize=False))\n",
    "sst2[\"prep_text_lemmatized\"]=sst2[\"text\"].parallel_apply(lambda tweet: TwitterPreprocessor().preprocess_tweet(tweet,lemmatize=True))\n",
    "sst2.head()"
   ]
  },
  {
   "cell_type": "code",
   "execution_count": 17,
   "metadata": {},
   "outputs": [],
   "source": [
    "sst2.to_csv(\"sst2_preprocessed.csv\",index=False,quoting=csv.QUOTE_ALL)"
   ]
  }
 ],
 "metadata": {
  "interpreter": {
   "hash": "04b5a7023900b512fecb086bd81f7b7930d91e2586f80674e410120528228ecc"
  },
  "kernelspec": {
   "display_name": "Python 3.8.10 ('env1')",
   "language": "python",
   "name": "python3"
  },
  "language_info": {
   "codemirror_mode": {
    "name": "ipython",
    "version": 3
   },
   "file_extension": ".py",
   "mimetype": "text/x-python",
   "name": "python",
   "nbconvert_exporter": "python",
   "pygments_lexer": "ipython3",
   "version": "3.8.10"
  },
  "orig_nbformat": 4
 },
 "nbformat": 4,
 "nbformat_minor": 2
}

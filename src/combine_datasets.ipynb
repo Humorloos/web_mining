{
 "cells": [
  {
   "cell_type": "markdown",
   "metadata": {},
   "source": [
    "## Define local constants\n",
    "Change these constants based on your needs."
   ]
  },
  {
   "cell_type": "code",
   "execution_count": 1,
   "metadata": {},
   "outputs": [],
   "source": [
    "INPUT_FILES = [\n",
    "    \"../data/preprocessed_data/negative_tweets_preprocessed_600k.csv\",\n",
    "    \"../data/preprocessed_data/positive_tweets_preprocessed_590k.csv\"\n",
    "    ]\n",
    "OUTPUT_FILE = \"../data/preprocessed_data/tweets_combined_preprocessed_1190k.csv\""
   ]
  },
  {
   "cell_type": "markdown",
   "metadata": {},
   "source": [
    "## Prepare combining"
   ]
  },
  {
   "cell_type": "code",
   "execution_count": 2,
   "metadata": {},
   "outputs": [],
   "source": [
    "import pandas as pd\n",
    "import csv"
   ]
  },
  {
   "cell_type": "markdown",
   "metadata": {},
   "source": [
    "## Combine the datasets"
   ]
  },
  {
   "cell_type": "code",
   "execution_count": 3,
   "metadata": {},
   "outputs": [],
   "source": [
    "# Load all datasets\n",
    "datasets = []\n",
    "for input_files in INPUT_FILES:\n",
    "    dataset = pd.read_csv(input_files, engine=\"python\", delimiter=\",\")\n",
    "    datasets.append(dataset)\n",
    "\n",
    "# Combine datasets into single dataset\n",
    "combined_dataset = pd.concat(datasets, axis=0)\n",
    "\n",
    "# Save the combined dataset to file\n",
    "combined_dataset.to_csv(OUTPUT_FILE, index=False, quoting=csv.QUOTE_ALL)"
   ]
  }
 ],
 "metadata": {
  "interpreter": {
   "hash": "df7a9a5c37ddd52c7652a98db41541d6c37368917739ba33de99dadb21ef70fe"
  },
  "kernelspec": {
   "display_name": "Python 3.9.7 ('base')",
   "language": "python",
   "name": "python3"
  },
  "language_info": {
   "codemirror_mode": {
    "name": "ipython",
    "version": 3
   },
   "file_extension": ".py",
   "mimetype": "text/x-python",
   "name": "python",
   "nbconvert_exporter": "python",
   "pygments_lexer": "ipython3",
   "version": "3.9.7"
  },
  "orig_nbformat": 4
 },
 "nbformat": 4,
 "nbformat_minor": 2
}
